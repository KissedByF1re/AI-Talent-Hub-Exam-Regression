{
 "cells": [
  {
   "cell_type": "code",
   "id": "initial_id",
   "metadata": {
    "collapsed": true,
    "ExecuteTime": {
     "end_time": "2024-07-22T21:30:34.415471Z",
     "start_time": "2024-07-22T21:30:34.401943Z"
    }
   },
   "source": [
    "import numpy as np\n",
    "import pandas as pd\n",
    "import seaborn as sns\n",
    "import matplotlib.pyplot as plt"
   ],
   "outputs": [],
   "execution_count": 68
  },
  {
   "metadata": {
    "ExecuteTime": {
     "end_time": "2024-07-22T21:30:36.201071Z",
     "start_time": "2024-07-22T21:30:36.021718Z"
    }
   },
   "cell_type": "code",
   "source": [
    "train_df = pd.read_csv('train.csv')\n",
    "test_df = pd.read_csv('test.csv')"
   ],
   "id": "a2373ce91feb7679",
   "outputs": [],
   "execution_count": 69
  },
  {
   "metadata": {
    "ExecuteTime": {
     "end_time": "2024-07-22T21:47:32.793630Z",
     "start_time": "2024-07-22T21:47:32.762038Z"
    }
   },
   "cell_type": "code",
   "source": [
    "X = train_df.drop('target', axis=1)\n",
    "y = train_df['target']"
   ],
   "id": "f012caee1bc6514e",
   "outputs": [],
   "execution_count": 104
  },
  {
   "metadata": {
    "ExecuteTime": {
     "end_time": "2024-07-22T21:47:33.713138Z",
     "start_time": "2024-07-22T21:47:33.701235Z"
    }
   },
   "cell_type": "code",
   "source": "X_test = test_df.drop('ID', axis=1)",
   "id": "6ec44bd65b1b9c3",
   "outputs": [],
   "execution_count": 105
  },
  {
   "metadata": {
    "ExecuteTime": {
     "end_time": "2024-07-22T21:31:10.122758Z",
     "start_time": "2024-07-22T21:31:10.114754Z"
    }
   },
   "cell_type": "code",
   "source": "from sklearn.preprocessing import MinMaxScaler",
   "id": "353ed1ba66c950fd",
   "outputs": [],
   "execution_count": 72
  },
  {
   "metadata": {
    "ExecuteTime": {
     "end_time": "2024-07-22T21:47:36.272243Z",
     "start_time": "2024-07-22T21:47:36.247994Z"
    }
   },
   "cell_type": "code",
   "source": [
    "scaler = MinMaxScaler()\n",
    "X_scaled = scaler.fit_transform(X)\n",
    "X_test_scaled = scaler.transform(X_test)"
   ],
   "id": "8a37d4e85043b3ae",
   "outputs": [],
   "execution_count": 106
  },
  {
   "metadata": {
    "ExecuteTime": {
     "end_time": "2024-07-22T21:31:17.604591Z",
     "start_time": "2024-07-22T21:31:17.596937Z"
    }
   },
   "cell_type": "code",
   "source": "from sklearn.preprocessing import PolynomialFeatures",
   "id": "8381973ab29d1aa1",
   "outputs": [],
   "execution_count": 74
  },
  {
   "metadata": {
    "ExecuteTime": {
     "end_time": "2024-07-22T21:47:43.807352Z",
     "start_time": "2024-07-22T21:47:43.702837Z"
    }
   },
   "cell_type": "code",
   "source": [
    "poly = PolynomialFeatures(degree=2, interaction_only=False, include_bias=False)\n",
    "X_poly = poly.fit_transform(X_scaled)\n",
    "X_poly = pd.DataFrame(X_poly, columns=poly.get_feature_names_out(X.columns))\n",
    "X_test_poly = poly.transform(X_test_scaled)\n",
    "X_test_poly = pd.DataFrame(X_test_poly, columns=poly.get_feature_names_out(X_test.columns))"
   ],
   "id": "90d12fde9c1f13ba",
   "outputs": [],
   "execution_count": 107
  },
  {
   "metadata": {
    "ExecuteTime": {
     "end_time": "2024-07-22T21:31:45.879840Z",
     "start_time": "2024-07-22T21:31:45.873092Z"
    }
   },
   "cell_type": "code",
   "source": "from sklearn.model_selection import train_test_split",
   "id": "30306fab34fb413e",
   "outputs": [],
   "execution_count": 76
  },
  {
   "metadata": {
    "ExecuteTime": {
     "end_time": "2024-07-22T23:40:50.447069Z",
     "start_time": "2024-07-22T23:40:50.411193Z"
    }
   },
   "cell_type": "code",
   "source": [
    "important_columns = ['col2 col16', 'col16 col18', 'col16 col21', 'col2 col18', \n",
    "                     'col13 col16', 'col2 col13', 'col18 col21', 'col13 col21',\n",
    "                     'col16 col25', 'col3 col16', 'col1 col14'\n",
    "                     ]\n",
    "combined_data_2 = X_poly[important_columns]\n",
    "combined_test_data_2 = X_test_poly[important_columns]"
   ],
   "id": "ff6149e79ae2d1aa",
   "outputs": [],
   "execution_count": 237
  },
  {
   "metadata": {
    "ExecuteTime": {
     "end_time": "2024-07-22T23:10:12.060474Z",
     "start_time": "2024-07-22T23:10:12.042063Z"
    }
   },
   "cell_type": "code",
   "source": "X_train, X_test, y_train, y_test = train_test_split(combined_data_2, y, test_size=0.1, random_state=101)",
   "id": "d2be152acb938452",
   "outputs": [],
   "execution_count": 214
  },
  {
   "metadata": {
    "ExecuteTime": {
     "end_time": "2024-07-22T21:31:56.576585Z",
     "start_time": "2024-07-22T21:31:56.568695Z"
    }
   },
   "cell_type": "code",
   "outputs": [],
   "execution_count": 79,
   "source": "from catboost import CatBoostClassifier",
   "id": "defbdaa1ee7872b1"
  },
  {
   "metadata": {
    "ExecuteTime": {
     "end_time": "2024-07-22T21:31:58.704067Z",
     "start_time": "2024-07-22T21:31:58.698275Z"
    }
   },
   "cell_type": "code",
   "outputs": [],
   "execution_count": 80,
   "source": "from sklearn.model_selection import StratifiedKFold",
   "id": "ea6ce0abc1be9eeb"
  },
  {
   "metadata": {
    "ExecuteTime": {
     "end_time": "2024-07-22T22:44:31.686365Z",
     "start_time": "2024-07-22T22:44:31.674368Z"
    }
   },
   "cell_type": "code",
   "source": "cv = StratifiedKFold(6, shuffle=True, random_state=101)",
   "id": "31a8dccc087baaaa",
   "outputs": [],
   "execution_count": 175
  },
  {
   "metadata": {
    "ExecuteTime": {
     "end_time": "2024-07-22T22:44:40.546290Z",
     "start_time": "2024-07-22T22:44:40.506823Z"
    }
   },
   "cell_type": "code",
   "source": [
    "folds = []\n",
    "\n",
    "for train_index, val_index in cv.split(X_train, y_train):\n",
    "    X_val = X_train.iloc[val_index]\n",
    "    y_val = y_train.iloc[val_index]\n",
    "    folds.append((X_val, y_val))\n"
   ],
   "id": "1f6afeb6a9f7043f",
   "outputs": [],
   "execution_count": 176
  },
  {
   "metadata": {
    "ExecuteTime": {
     "end_time": "2024-07-22T21:32:05.932562Z",
     "start_time": "2024-07-22T21:32:05.924388Z"
    }
   },
   "cell_type": "code",
   "outputs": [],
   "execution_count": 83,
   "source": "from sklearn.metrics import f1_score",
   "id": "3a2c859fe67647f0"
  },
  {
   "metadata": {
    "ExecuteTime": {
     "end_time": "2024-07-22T23:21:34.966943Z",
     "start_time": "2024-07-22T23:21:10.891292Z"
    }
   },
   "cell_type": "code",
   "source": [
    "model = CatBoostClassifier(\n",
    "            loss_function='Logloss',\n",
    "            iterations=660,\n",
    "            learning_rate=0.01,\n",
    "            custom_loss = ['F1', 'Accuracy']\n",
    ")\n",
    "model.fit(\n",
    "    X_train, y_train,\n",
    "    eval_set=folds,\n",
    "    verbose=False,\n",
    "    use_best_model=True\n",
    ")"
   ],
   "id": "ade725015f3e870",
   "outputs": [
    {
     "data": {
      "text/plain": [
       "MetricVisualizer(layout=Layout(align_self='stretch', height='500px'))"
      ],
      "application/vnd.jupyter.widget-view+json": {
       "version_major": 2,
       "version_minor": 0,
       "model_id": "496b91d786aa42a3ba31904dcea59bdf"
      }
     },
     "metadata": {},
     "output_type": "display_data"
    },
    {
     "data": {
      "text/plain": [
       "<catboost.core.CatBoostClassifier at 0x2dc5150e5d0>"
      ]
     },
     "execution_count": 222,
     "metadata": {},
     "output_type": "execute_result"
    }
   ],
   "execution_count": 222
  },
  {
   "metadata": {
    "ExecuteTime": {
     "end_time": "2024-07-22T23:46:12.769093Z",
     "start_time": "2024-07-22T23:46:12.328031Z"
    }
   },
   "cell_type": "code",
   "outputs": [],
   "execution_count": 243,
   "source": [
    "probabilities_train = model.predict_proba(X_train)[:, 1]\n",
    "probabilities_test = model.predict_proba(X_test)[:, 1]"
   ],
   "id": "429f52d53391f61c"
  },
  {
   "metadata": {
    "ExecuteTime": {
     "end_time": "2024-07-22T21:02:34.472626Z",
     "start_time": "2024-07-22T21:02:34.465124Z"
    }
   },
   "cell_type": "code",
   "source": "from sklearn.metrics import precision_recall_curve, confusion_matrix",
   "id": "a5441be4b787e6d0",
   "outputs": [],
   "execution_count": 56
  },
  {
   "metadata": {
    "ExecuteTime": {
     "end_time": "2024-07-22T23:33:37.571479Z",
     "start_time": "2024-07-22T23:33:37.528166Z"
    }
   },
   "cell_type": "code",
   "source": "precision, recall, thresholds = precision_recall_curve(y_test, probabilities_test)",
   "id": "b725238d6db3c137",
   "outputs": [],
   "execution_count": 231
  },
  {
   "metadata": {
    "ExecuteTime": {
     "end_time": "2024-07-22T23:33:38.517387Z",
     "start_time": "2024-07-22T23:33:38.501179Z"
    }
   },
   "cell_type": "code",
   "source": [
    "f1_scores = 2 * (precision * recall) / (precision + recall)\n",
    "best_threshold = thresholds[np.argmax(f1_scores)]\n",
    "\n",
    "print(f\"Best Threshold: {best_threshold}\")"
   ],
   "id": "93ef05457f9718c9",
   "outputs": [
    {
     "name": "stdout",
     "output_type": "stream",
     "text": [
      "Best Threshold: 0.402124435588858\n"
     ]
    }
   ],
   "execution_count": 232
  },
  {
   "metadata": {
    "ExecuteTime": {
     "end_time": "2024-07-22T23:46:15.424585Z",
     "start_time": "2024-07-22T23:46:15.387888Z"
    }
   },
   "cell_type": "code",
   "source": [
    "new_threshold = best_threshold\n",
    "predictions_train = (probabilities_train > new_threshold).astype(int)\n",
    "predictions_test = (probabilities_test > new_threshold).astype(int)\n",
    "\n",
    "print(f\"F1-score на обучающих данных: {f1_score(y_train, predictions_train)}\")\n",
    "print(f\"F1-score на тестовых данных: {f1_score(y_test, predictions_test)}\")\n",
    "conf_matrix = confusion_matrix(y_test, predictions_test)\n",
    "print(conf_matrix)"
   ],
   "id": "1f94b229351d19ae",
   "outputs": [
    {
     "name": "stdout",
     "output_type": "stream",
     "text": [
      "F1-score на обучающих данных: 0.7774599542334096\n"
     ]
    }
   ],
   "execution_count": 244
  },
  {
   "metadata": {
    "ExecuteTime": {
     "end_time": "2024-07-22T23:46:19.481566Z",
     "start_time": "2024-07-22T23:46:19.411946Z"
    }
   },
   "cell_type": "code",
   "source": [
    "submission = pd.DataFrame({'ID': test_df['ID'], 'target': predictions_test.astype(int)})\n",
    "submission.to_csv('submission.csv', index=False)"
   ],
   "id": "6d495f43f1d6d44b",
   "outputs": [],
   "execution_count": 245
  }
 ],
 "metadata": {
  "kernelspec": {
   "display_name": "Python 3",
   "language": "python",
   "name": "python3"
  },
  "language_info": {
   "codemirror_mode": {
    "name": "ipython",
    "version": 2
   },
   "file_extension": ".py",
   "mimetype": "text/x-python",
   "name": "python",
   "nbconvert_exporter": "python",
   "pygments_lexer": "ipython2",
   "version": "2.7.6"
  }
 },
 "nbformat": 4,
 "nbformat_minor": 5
}
